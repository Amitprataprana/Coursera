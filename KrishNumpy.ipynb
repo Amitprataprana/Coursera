{
  "nbformat": 4,
  "nbformat_minor": 0,
  "metadata": {
    "colab": {
      "name": "KrishNumpy.ipynb",
      "provenance": [],
      "collapsed_sections": [],
      "authorship_tag": "ABX9TyNOsCNYamJ0OdOXcDoudAkX",
      "include_colab_link": true
    },
    "kernelspec": {
      "name": "python3",
      "display_name": "Python 3"
    }
  },
  "cells": [
    {
      "cell_type": "markdown",
      "metadata": {
        "id": "view-in-github",
        "colab_type": "text"
      },
      "source": [
        "<a href=\"https://colab.research.google.com/github/Amitprataprana/Coursera/blob/master/KrishNumpy.ipynb\" target=\"_parent\"><img src=\"https://colab.research.google.com/assets/colab-badge.svg\" alt=\"Open In Colab\"/></a>"
      ]
    },
    {
      "cell_type": "code",
      "metadata": {
        "id": "nvRDzVAYSXCw",
        "colab_type": "code",
        "colab": {}
      },
      "source": [
        "import numpy as np"
      ],
      "execution_count": 1,
      "outputs": []
    },
    {
      "cell_type": "code",
      "metadata": {
        "id": "-RG2T86sSj7J",
        "colab_type": "code",
        "colab": {}
      },
      "source": [
        "my_list = [1,2,3,4,5,6]\n",
        "\n",
        "arr = np.array(my_list)"
      ],
      "execution_count": 4,
      "outputs": []
    },
    {
      "cell_type": "code",
      "metadata": {
        "id": "CTIzvPwwSj5y",
        "colab_type": "code",
        "colab": {
          "base_uri": "https://localhost:8080/",
          "height": 34
        },
        "outputId": "f955ac2e-b5c7-4ba4-9971-b332b10e4ba0"
      },
      "source": [
        "type(arr)"
      ],
      "execution_count": 5,
      "outputs": [
        {
          "output_type": "execute_result",
          "data": {
            "text/plain": [
              "numpy.ndarray"
            ]
          },
          "metadata": {
            "tags": []
          },
          "execution_count": 5
        }
      ]
    },
    {
      "cell_type": "code",
      "metadata": {
        "id": "rih5HZIHS_oL",
        "colab_type": "code",
        "colab": {
          "base_uri": "https://localhost:8080/",
          "height": 50
        },
        "outputId": "1129a806-319a-46ce-c1dd-a20d6a1a2e59"
      },
      "source": [
        "print(arr)\n",
        "arr"
      ],
      "execution_count": 8,
      "outputs": [
        {
          "output_type": "stream",
          "text": [
            "[1 2 3 4 5 6]\n"
          ],
          "name": "stdout"
        },
        {
          "output_type": "execute_result",
          "data": {
            "text/plain": [
              "array([1, 2, 3, 4, 5, 6])"
            ]
          },
          "metadata": {
            "tags": []
          },
          "execution_count": 8
        }
      ]
    },
    {
      "cell_type": "code",
      "metadata": {
        "id": "afgEiYn8Sj0s",
        "colab_type": "code",
        "colab": {
          "base_uri": "https://localhost:8080/",
          "height": 34
        },
        "outputId": "430f8596-8522-478a-920e-57918e60ec1d"
      },
      "source": [
        "arr.shape"
      ],
      "execution_count": 6,
      "outputs": [
        {
          "output_type": "execute_result",
          "data": {
            "text/plain": [
              "(6,)"
            ]
          },
          "metadata": {
            "tags": []
          },
          "execution_count": 6
        }
      ]
    },
    {
      "cell_type": "markdown",
      "metadata": {
        "id": "0BVntMW1Tey1",
        "colab_type": "text"
      },
      "source": [
        "#Two dimensional Array"
      ]
    },
    {
      "cell_type": "code",
      "metadata": {
        "id": "0ROF_mtzTiV5",
        "colab_type": "code",
        "colab": {}
      },
      "source": [
        "my_list1 =[1,2,3,4,5]\n",
        "my_list2 =[2,3,4,5,6]\n",
        "my_list3 =[3,4,5,6,7]"
      ],
      "execution_count": 9,
      "outputs": []
    },
    {
      "cell_type": "code",
      "metadata": {
        "id": "txI9Le9lSjy9",
        "colab_type": "code",
        "colab": {
          "base_uri": "https://localhost:8080/",
          "height": 67
        },
        "outputId": "e11d5795-946d-4d04-f37a-cad208a8c5aa"
      },
      "source": [
        "arr = np.array([my_list1,my_list2,my_list3])\n",
        "arr"
      ],
      "execution_count": 11,
      "outputs": [
        {
          "output_type": "execute_result",
          "data": {
            "text/plain": [
              "array([[1, 2, 3, 4, 5],\n",
              "       [2, 3, 4, 5, 6],\n",
              "       [3, 4, 5, 6, 7]])"
            ]
          },
          "metadata": {
            "tags": []
          },
          "execution_count": 11
        }
      ]
    },
    {
      "cell_type": "code",
      "metadata": {
        "id": "59ajHnTjSjvE",
        "colab_type": "code",
        "colab": {
          "base_uri": "https://localhost:8080/",
          "height": 118
        },
        "outputId": "048ca22d-b56d-4758-c665-113ddfda4e99"
      },
      "source": [
        "arr.shape\n",
        "arr = arr.reshape(5,3)\n",
        "print(arr)\n",
        "print(arr.shape)"
      ],
      "execution_count": 19,
      "outputs": [
        {
          "output_type": "stream",
          "text": [
            "[[1 2 3]\n",
            " [4 5 2]\n",
            " [3 4 5]\n",
            " [6 3 4]\n",
            " [5 6 7]]\n",
            "(5, 3)\n"
          ],
          "name": "stdout"
        }
      ]
    },
    {
      "cell_type": "markdown",
      "metadata": {
        "id": "_8u89MygVa-C",
        "colab_type": "text"
      },
      "source": [
        "#Indexing\n",
        "\n"
      ]
    },
    {
      "cell_type": "code",
      "metadata": {
        "id": "QNqdxLyXSjtu",
        "colab_type": "code",
        "colab": {
          "base_uri": "https://localhost:8080/",
          "height": 34
        },
        "outputId": "3e28819b-6b2c-4d69-cbb2-cbdc4077efcc"
      },
      "source": [
        "arr[3]"
      ],
      "execution_count": 25,
      "outputs": [
        {
          "output_type": "execute_result",
          "data": {
            "text/plain": [
              "array([6, 3, 4])"
            ]
          },
          "metadata": {
            "tags": []
          },
          "execution_count": 25
        }
      ]
    },
    {
      "cell_type": "code",
      "metadata": {
        "id": "dtTmwtJeVedX",
        "colab_type": "code",
        "colab": {
          "base_uri": "https://localhost:8080/",
          "height": 67
        },
        "outputId": "c7a005f8-348f-416e-a887-e1867834c9e0"
      },
      "source": [
        "arr[:3,:2]"
      ],
      "execution_count": 27,
      "outputs": [
        {
          "output_type": "execute_result",
          "data": {
            "text/plain": [
              "array([[1, 2],\n",
              "       [4, 5],\n",
              "       [3, 4]])"
            ]
          },
          "metadata": {
            "tags": []
          },
          "execution_count": 27
        }
      ]
    },
    {
      "cell_type": "code",
      "metadata": {
        "id": "B5C1cLY0Sjo3",
        "colab_type": "code",
        "colab": {
          "base_uri": "https://localhost:8080/",
          "height": 34
        },
        "outputId": "8a5ccb7c-7892-40a6-ca6d-9c8eb9bac456"
      },
      "source": [
        "arr[:,1]"
      ],
      "execution_count": 35,
      "outputs": [
        {
          "output_type": "execute_result",
          "data": {
            "text/plain": [
              "array([2, 5, 4, 3, 6])"
            ]
          },
          "metadata": {
            "tags": []
          },
          "execution_count": 35
        }
      ]
    },
    {
      "cell_type": "markdown",
      "metadata": {
        "id": "_1grnkPiWe6p",
        "colab_type": "text"
      },
      "source": [
        "#Inbuilt functions"
      ]
    },
    {
      "cell_type": "code",
      "metadata": {
        "id": "Xu28lLiLSjnm",
        "colab_type": "code",
        "colab": {
          "base_uri": "https://localhost:8080/",
          "height": 34
        },
        "outputId": "d5a745c9-f76c-4ad3-cc26-60d2c1cd02af"
      },
      "source": [
        "arr = np.arange(0,10,2)\n",
        "arr"
      ],
      "execution_count": 37,
      "outputs": [
        {
          "output_type": "execute_result",
          "data": {
            "text/plain": [
              "array([0, 2, 4, 6, 8])"
            ]
          },
          "metadata": {
            "tags": []
          },
          "execution_count": 37
        }
      ]
    },
    {
      "cell_type": "markdown",
      "metadata": {
        "id": "ZUiIWz_dW9Ri",
        "colab_type": "text"
      },
      "source": [
        "Linsapce gives the desired number of random values between some given range\n",
        "eg:here between 1 to 20 , 50 values are required and linspace gives the following output."
      ]
    },
    {
      "cell_type": "code",
      "metadata": {
        "id": "f2Qr5yvpSjin",
        "colab_type": "code",
        "colab": {
          "base_uri": "https://localhost:8080/",
          "height": 185
        },
        "outputId": "0a4dc15f-7f9b-4f9b-a5c3-56dd24d2b6f9"
      },
      "source": [
        "np.linspace(1,20,50)"
      ],
      "execution_count": 39,
      "outputs": [
        {
          "output_type": "execute_result",
          "data": {
            "text/plain": [
              "array([ 1.        ,  1.3877551 ,  1.7755102 ,  2.16326531,  2.55102041,\n",
              "        2.93877551,  3.32653061,  3.71428571,  4.10204082,  4.48979592,\n",
              "        4.87755102,  5.26530612,  5.65306122,  6.04081633,  6.42857143,\n",
              "        6.81632653,  7.20408163,  7.59183673,  7.97959184,  8.36734694,\n",
              "        8.75510204,  9.14285714,  9.53061224,  9.91836735, 10.30612245,\n",
              "       10.69387755, 11.08163265, 11.46938776, 11.85714286, 12.24489796,\n",
              "       12.63265306, 13.02040816, 13.40816327, 13.79591837, 14.18367347,\n",
              "       14.57142857, 14.95918367, 15.34693878, 15.73469388, 16.12244898,\n",
              "       16.51020408, 16.89795918, 17.28571429, 17.67346939, 18.06122449,\n",
              "       18.44897959, 18.83673469, 19.2244898 , 19.6122449 , 20.        ])"
            ]
          },
          "metadata": {
            "tags": []
          },
          "execution_count": 39
        }
      ]
    },
    {
      "cell_type": "code",
      "metadata": {
        "id": "NCNLmOihSjhF",
        "colab_type": "code",
        "colab": {}
      },
      "source": [
        "arr = np.array([1,2,3,4,5,6,7,8,9])"
      ],
      "execution_count": 47,
      "outputs": []
    },
    {
      "cell_type": "code",
      "metadata": {
        "id": "fgj1-5sKSjb9",
        "colab_type": "code",
        "colab": {
          "base_uri": "https://localhost:8080/",
          "height": 50
        },
        "outputId": "9f9a5c42-e1b6-4406-98a0-83725d179455"
      },
      "source": [
        "arr1 = arr\n",
        "arr1[3:]=100\n",
        "print(arr1)\n",
        "print(arr)"
      ],
      "execution_count": 48,
      "outputs": [
        {
          "output_type": "stream",
          "text": [
            "[  1   2   3 100 100 100 100 100 100]\n",
            "[  1   2   3 100 100 100 100 100 100]\n"
          ],
          "name": "stdout"
        }
      ]
    },
    {
      "cell_type": "markdown",
      "metadata": {
        "id": "bcyxH36zYNvY",
        "colab_type": "text"
      },
      "source": [
        "By assigning the other name to array change in any one of the arrays will appear in both the arrays.\n",
        "Thus to avoid this scenario copy funtion is used"
      ]
    },
    {
      "cell_type": "code",
      "metadata": {
        "id": "FFmGr4caSja4",
        "colab_type": "code",
        "colab": {
          "base_uri": "https://localhost:8080/",
          "height": 50
        },
        "outputId": "729d4e0c-5e2b-4a67-a2ee-8e2af082ce03"
      },
      "source": [
        "arr1 = arr.copy()\n",
        "arr1[4:] = 500\n",
        "print(arr1)\n",
        "print(arr)"
      ],
      "execution_count": 49,
      "outputs": [
        {
          "output_type": "stream",
          "text": [
            "[  1   2   3 100 500 500 500 500 500]\n",
            "[  1   2   3 100 100 100 100 100 100]\n"
          ],
          "name": "stdout"
        }
      ]
    },
    {
      "cell_type": "code",
      "metadata": {
        "id": "_rCl--bkSjV4",
        "colab_type": "code",
        "colab": {
          "base_uri": "https://localhost:8080/",
          "height": 67
        },
        "outputId": "d502ad63-caef-472a-a1b7-c1cd929794ce"
      },
      "source": [
        "## Some conditions are very useful in Explanatory Data Analysis\n",
        "\n",
        "val = 2\n",
        "print(arr[arr <val])\n",
        "print(arr*2)\n",
        "print(arr<2)\n"
      ],
      "execution_count": 57,
      "outputs": [
        {
          "output_type": "stream",
          "text": [
            "[1]\n",
            "[  2   4   6 200 200 200 200 200 200]\n",
            "[ True False False False False False False False False]\n"
          ],
          "name": "stdout"
        }
      ]
    },
    {
      "cell_type": "code",
      "metadata": {
        "id": "e0adCSXSSjUy",
        "colab_type": "code",
        "colab": {
          "base_uri": "https://localhost:8080/",
          "height": 84
        },
        "outputId": "a46dcee9-61e4-48e9-8c3d-307539888ef7"
      },
      "source": [
        "np.ones((4,5),dtype =int)"
      ],
      "execution_count": 60,
      "outputs": [
        {
          "output_type": "execute_result",
          "data": {
            "text/plain": [
              "array([[1, 1, 1, 1, 1],\n",
              "       [1, 1, 1, 1, 1],\n",
              "       [1, 1, 1, 1, 1],\n",
              "       [1, 1, 1, 1, 1]])"
            ]
          },
          "metadata": {
            "tags": []
          },
          "execution_count": 60
        }
      ]
    },
    {
      "cell_type": "code",
      "metadata": {
        "id": "XQRGarF9SjQV",
        "colab_type": "code",
        "colab": {
          "base_uri": "https://localhost:8080/",
          "height": 67
        },
        "outputId": "50be0563-e3e6-4205-8575-ccb6b1b1008c"
      },
      "source": [
        "np.random.rand(3,3)"
      ],
      "execution_count": 61,
      "outputs": [
        {
          "output_type": "execute_result",
          "data": {
            "text/plain": [
              "array([[0.26412339, 0.04344305, 0.16461518],\n",
              "       [0.71504301, 0.53608925, 0.66749296],\n",
              "       [0.96490197, 0.21559385, 0.01829173]])"
            ]
          },
          "metadata": {
            "tags": []
          },
          "execution_count": 61
        }
      ]
    },
    {
      "cell_type": "code",
      "metadata": {
        "id": "WlXmRfhwSjO1",
        "colab_type": "code",
        "colab": {
          "base_uri": "https://localhost:8080/",
          "height": 67
        },
        "outputId": "9bdfccd8-da14-4819-ff03-0363b5008a31"
      },
      "source": [
        "np.random.randint(1,4,(3,3))"
      ],
      "execution_count": 62,
      "outputs": [
        {
          "output_type": "execute_result",
          "data": {
            "text/plain": [
              "array([[1, 2, 1],\n",
              "       [3, 2, 1],\n",
              "       [2, 3, 2]])"
            ]
          },
          "metadata": {
            "tags": []
          },
          "execution_count": 62
        }
      ]
    },
    {
      "cell_type": "code",
      "metadata": {
        "id": "axAM8waxSjJq",
        "colab_type": "code",
        "colab": {
          "base_uri": "https://localhost:8080/",
          "height": 84
        },
        "outputId": "c7d91057-fdf0-4746-b59e-ae1fbf718873"
      },
      "source": [
        "np.random.randn(1,20)"
      ],
      "execution_count": 63,
      "outputs": [
        {
          "output_type": "execute_result",
          "data": {
            "text/plain": [
              "array([[-0.91660803,  0.47898688,  0.99549086, -0.12164416,  1.92903298,\n",
              "        -0.78610831, -0.87043568,  0.18486645,  0.05823606, -0.52125157,\n",
              "        -1.08182112, -0.87408152,  0.01071095, -1.05463279,  1.36967371,\n",
              "        -0.48237684,  0.89342555,  2.71076462,  0.43750745,  0.74257229]])"
            ]
          },
          "metadata": {
            "tags": []
          },
          "execution_count": 63
        }
      ]
    },
    {
      "cell_type": "code",
      "metadata": {
        "id": "4XG4AzFQSjIw",
        "colab_type": "code",
        "colab": {
          "base_uri": "https://localhost:8080/",
          "height": 168
        },
        "outputId": "4b72b063-45e3-4444-813d-bcfe9daa88ae"
      },
      "source": [
        "np.random.randint(0,800,45).reshape(9,5)"
      ],
      "execution_count": 64,
      "outputs": [
        {
          "output_type": "execute_result",
          "data": {
            "text/plain": [
              "array([[425, 272,  30, 624, 627],\n",
              "       [  7, 747, 322, 122, 260],\n",
              "       [148, 188, 242, 425, 360],\n",
              "       [637, 633, 258, 688, 620],\n",
              "       [739, 267, 357, 383, 248],\n",
              "       [478, 186,  81, 366, 351],\n",
              "       [627, 570, 363, 480, 402],\n",
              "       [285,  96, 154, 345, 786],\n",
              "       [754, 147, 334, 726, 242]])"
            ]
          },
          "metadata": {
            "tags": []
          },
          "execution_count": 64
        }
      ]
    },
    {
      "cell_type": "code",
      "metadata": {
        "id": "2ktUPT7LSjEQ",
        "colab_type": "code",
        "colab": {}
      },
      "source": [
        ""
      ],
      "execution_count": null,
      "outputs": []
    },
    {
      "cell_type": "code",
      "metadata": {
        "id": "atFfqWDaSjCo",
        "colab_type": "code",
        "colab": {}
      },
      "source": [
        ""
      ],
      "execution_count": null,
      "outputs": []
    },
    {
      "cell_type": "code",
      "metadata": {
        "id": "ZGPm34g0Si-J",
        "colab_type": "code",
        "colab": {}
      },
      "source": [
        ""
      ],
      "execution_count": null,
      "outputs": []
    },
    {
      "cell_type": "code",
      "metadata": {
        "id": "pXpaL7XuSi9U",
        "colab_type": "code",
        "colab": {}
      },
      "source": [
        ""
      ],
      "execution_count": null,
      "outputs": []
    },
    {
      "cell_type": "code",
      "metadata": {
        "id": "eGlg6-nqSi4o",
        "colab_type": "code",
        "colab": {}
      },
      "source": [
        ""
      ],
      "execution_count": null,
      "outputs": []
    },
    {
      "cell_type": "code",
      "metadata": {
        "id": "fpduUKgvSi3G",
        "colab_type": "code",
        "colab": {}
      },
      "source": [
        ""
      ],
      "execution_count": null,
      "outputs": []
    },
    {
      "cell_type": "code",
      "metadata": {
        "id": "9dyYWLqoSix6",
        "colab_type": "code",
        "colab": {}
      },
      "source": [
        ""
      ],
      "execution_count": null,
      "outputs": []
    },
    {
      "cell_type": "code",
      "metadata": {
        "id": "nk9V8FaxSiw_",
        "colab_type": "code",
        "colab": {}
      },
      "source": [
        ""
      ],
      "execution_count": null,
      "outputs": []
    },
    {
      "cell_type": "code",
      "metadata": {
        "id": "EIcsOh-mSir-",
        "colab_type": "code",
        "colab": {}
      },
      "source": [
        ""
      ],
      "execution_count": null,
      "outputs": []
    },
    {
      "cell_type": "code",
      "metadata": {
        "id": "PwMl-1b_SirI",
        "colab_type": "code",
        "colab": {}
      },
      "source": [
        ""
      ],
      "execution_count": null,
      "outputs": []
    },
    {
      "cell_type": "code",
      "metadata": {
        "id": "7V_VzWnqSimD",
        "colab_type": "code",
        "colab": {}
      },
      "source": [
        ""
      ],
      "execution_count": null,
      "outputs": []
    },
    {
      "cell_type": "code",
      "metadata": {
        "id": "5KteC98mSilK",
        "colab_type": "code",
        "colab": {}
      },
      "source": [
        ""
      ],
      "execution_count": null,
      "outputs": []
    },
    {
      "cell_type": "code",
      "metadata": {
        "id": "LkBjt6w4SiWc",
        "colab_type": "code",
        "colab": {}
      },
      "source": [
        ""
      ],
      "execution_count": null,
      "outputs": []
    },
    {
      "cell_type": "code",
      "metadata": {
        "id": "lVfjnf6lSiG4",
        "colab_type": "code",
        "colab": {}
      },
      "source": [
        ""
      ],
      "execution_count": null,
      "outputs": []
    }
  ]
}